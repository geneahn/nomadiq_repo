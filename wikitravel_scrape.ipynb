{
 "cells": [
  {
   "cell_type": "code",
   "execution_count": 60,
   "metadata": {
    "collapsed": true
   },
   "outputs": [],
   "source": [
    "from lxml import html\n",
    "import requests\n",
    "import pandas as pd\n",
    "import numpy as np\n",
    "import re"
   ]
  },
  {
   "cell_type": "code",
   "execution_count": 105,
   "metadata": {
    "collapsed": true
   },
   "outputs": [],
   "source": [
    "def cleanhtml(raw_html):\n",
    "    cleanr = re.compile('<.*?>')\n",
    "    cleantext = re.sub(cleanr, '', raw_html).strip('\\\\n')\n",
    "    return cleantext"
   ]
  },
  {
   "cell_type": "code",
   "execution_count": 106,
   "metadata": {},
   "outputs": [
    {
     "data": {
      "text/html": [
       "<div>\n",
       "<style scoped>\n",
       "    .dataframe tbody tr th:only-of-type {\n",
       "        vertical-align: middle;\n",
       "    }\n",
       "\n",
       "    .dataframe tbody tr th {\n",
       "        vertical-align: top;\n",
       "    }\n",
       "\n",
       "    .dataframe thead th {\n",
       "        text-align: right;\n",
       "    }\n",
       "</style>\n",
       "<table border=\"1\" class=\"dataframe\">\n",
       "  <thead>\n",
       "    <tr style=\"text-align: right;\">\n",
       "      <th></th>\n",
       "      <th>city</th>\n",
       "      <th>country</th>\n",
       "    </tr>\n",
       "  </thead>\n",
       "  <tbody>\n",
       "    <tr>\n",
       "      <th>0</th>\n",
       "      <td>A Coruña</td>\n",
       "      <td>Spain</td>\n",
       "    </tr>\n",
       "    <tr>\n",
       "      <th>1</th>\n",
       "      <td>Aachen</td>\n",
       "      <td>Germany</td>\n",
       "    </tr>\n",
       "    <tr>\n",
       "      <th>2</th>\n",
       "      <td>Aalborg</td>\n",
       "      <td>Denmark</td>\n",
       "    </tr>\n",
       "    <tr>\n",
       "      <th>3</th>\n",
       "      <td>Aarhus</td>\n",
       "      <td>Denmark</td>\n",
       "    </tr>\n",
       "    <tr>\n",
       "      <th>4</th>\n",
       "      <td>Aba</td>\n",
       "      <td>Nigeria</td>\n",
       "    </tr>\n",
       "  </tbody>\n",
       "</table>\n",
       "</div>"
      ],
      "text/plain": [
       "       city   country\n",
       "0  A Coruña     Spain\n",
       "1    Aachen   Germany\n",
       "2   Aalborg   Denmark\n",
       "3    Aarhus   Denmark\n",
       "4       Aba   Nigeria"
      ]
     },
     "execution_count": 106,
     "metadata": {},
     "output_type": "execute_result"
    }
   ],
   "source": [
    "cities = pd.read_csv('cities.csv')\n",
    "cities.head()"
   ]
  },
  {
   "cell_type": "code",
   "execution_count": null,
   "metadata": {},
   "outputs": [
    {
     "name": "stdout",
     "output_type": "stream",
     "text": [
      "292  - city:  Baichengencanoisrashtra Agartala Andimeshk\r"
     ]
    }
   ],
   "source": [
    "wikitravel = pd.DataFrame(columns=['city','summary','do','see','eat'])\n",
    "\n",
    "for i, city in enumerate(cities['city']):\n",
    "    print(i,\" - city: \",city.replace(\" \",\"_\"),end=\"\\r\")\n",
    "    try:\n",
    "        page = requests.get('https://wikitravel.org/en/'+str(city.replace(\" \",\"_\")))\n",
    "    except:\n",
    "        city = city+\"- unable to fetch\"\n",
    "    try:\n",
    "        summary = cleanhtml(str(page.content).split('<div id=\"moved_title\">')[1].split('<h2')[0])\n",
    "    except:\n",
    "        summary = 'error'\n",
    "    try:\n",
    "        do = cleanhtml(str(page.content).split('[</span><a href=\"#Do')[1].split('<h2')[0])\n",
    "    except:\n",
    "        do = 'error'\n",
    "    try:\n",
    "        see = cleanhtml(str(page.content).split('[</span><a href=\"#See')[1].split('<h2')[0])\n",
    "    except:\n",
    "        see = 'error'\n",
    "    try:\n",
    "        eat = cleanhtml(str(page.content).split('[</span><a href=\"#Eat')[1].split('<h2')[0])\n",
    "    except:\n",
    "        eat = 'error'\n",
    "    #wikitravel.append(pd.DataFrame({'city':city, 'summary':summary,'do':do, 'see':see, 'eat':eat}))\n",
    "    wikitravel = wikitravel.append(pd.DataFrame([[city,summary,do,see,eat]],columns=['city','summary','do','see','eat']),ignore_index=True)"
   ]
  },
  {
   "cell_type": "code",
   "execution_count": 100,
   "metadata": {},
   "outputs": [
    {
     "data": {
      "text/html": [
       "<div>\n",
       "<style scoped>\n",
       "    .dataframe tbody tr th:only-of-type {\n",
       "        vertical-align: middle;\n",
       "    }\n",
       "\n",
       "    .dataframe tbody tr th {\n",
       "        vertical-align: top;\n",
       "    }\n",
       "\n",
       "    .dataframe thead th {\n",
       "        text-align: right;\n",
       "    }\n",
       "</style>\n",
       "<table border=\"1\" class=\"dataframe\">\n",
       "  <thead>\n",
       "    <tr style=\"text-align: right;\">\n",
       "      <th></th>\n",
       "      <th>city</th>\n",
       "      <th>summary</th>\n",
       "      <th>do</th>\n",
       "      <th>see</th>\n",
       "      <th>eat</th>\n",
       "    </tr>\n",
       "  </thead>\n",
       "  <tbody>\n",
       "    <tr>\n",
       "      <th>0</th>\n",
       "      <td>A Coruña</td>\n",
       "      <td>\\nA Coru\\xc3\\xb1a (Spanish: La Coru\\xc3\\xb1a) ...</td>\n",
       "      <td>\" title=\"click to add a do listing\" onclick=\"a...</td>\n",
       "      <td>\" title=\"click to add a see listing\" onclick=\"...</td>\n",
       "      <td>\" title=\"click to add a eat listing\" onclick=\"...</td>\n",
       "    </tr>\n",
       "    <tr>\n",
       "      <th>1</th>\n",
       "      <td>Aachen</td>\n",
       "      <td>\\nAachen [11] is a city in North Rhine-Westpha...</td>\n",
       "      <td>\" title=\"click to add a do listing\" onclick=\"a...</td>\n",
       "      <td>\" title=\"click to add a see listing\" onclick=\"...</td>\n",
       "      <td>\" title=\"click to add a eat listing\" onclick=\"...</td>\n",
       "    </tr>\n",
       "    <tr>\n",
       "      <th>2</th>\n",
       "      <td>Aalborg</td>\n",
       "      <td>\\nAalborg [16] [17] is in North Jutland, Denma...</td>\n",
       "      <td>\" title=\"click to add a do listing\" onclick=\"a...</td>\n",
       "      <td>\" title=\"click to add a see listing\" onclick=\"...</td>\n",
       "      <td>\" title=\"click to add a eat listing\" onclick=\"...</td>\n",
       "    </tr>\n",
       "    <tr>\n",
       "      <th>3</th>\n",
       "      <td>Aarhus</td>\n",
       "      <td>\\n\\nAarhus, (pronounced: Oar-Hoos, previously ...</td>\n",
       "      <td>\" title=\"click to add a do listing\" onclick=\"a...</td>\n",
       "      <td>\" title=\"click to add a see listing\" onclick=\"...</td>\n",
       "      <td>\" title=\"click to add a eat listing\" onclick=\"...</td>\n",
       "    </tr>\n",
       "    <tr>\n",
       "      <th>4</th>\n",
       "      <td>Aba</td>\n",
       "      <td>error</td>\n",
       "      <td>error</td>\n",
       "      <td>error</td>\n",
       "      <td>error</td>\n",
       "    </tr>\n",
       "  </tbody>\n",
       "</table>\n",
       "</div>"
      ],
      "text/plain": [
       "       city                                            summary  \\\n",
       "0  A Coruña  \\nA Coru\\xc3\\xb1a (Spanish: La Coru\\xc3\\xb1a) ...   \n",
       "1    Aachen  \\nAachen [11] is a city in North Rhine-Westpha...   \n",
       "2   Aalborg  \\nAalborg [16] [17] is in North Jutland, Denma...   \n",
       "3    Aarhus  \\n\\nAarhus, (pronounced: Oar-Hoos, previously ...   \n",
       "4       Aba                                              error   \n",
       "\n",
       "                                                  do  \\\n",
       "0  \" title=\"click to add a do listing\" onclick=\"a...   \n",
       "1  \" title=\"click to add a do listing\" onclick=\"a...   \n",
       "2  \" title=\"click to add a do listing\" onclick=\"a...   \n",
       "3  \" title=\"click to add a do listing\" onclick=\"a...   \n",
       "4                                              error   \n",
       "\n",
       "                                                 see  \\\n",
       "0  \" title=\"click to add a see listing\" onclick=\"...   \n",
       "1  \" title=\"click to add a see listing\" onclick=\"...   \n",
       "2  \" title=\"click to add a see listing\" onclick=\"...   \n",
       "3  \" title=\"click to add a see listing\" onclick=\"...   \n",
       "4                                              error   \n",
       "\n",
       "                                                 eat  \n",
       "0  \" title=\"click to add a eat listing\" onclick=\"...  \n",
       "1  \" title=\"click to add a eat listing\" onclick=\"...  \n",
       "2  \" title=\"click to add a eat listing\" onclick=\"...  \n",
       "3  \" title=\"click to add a eat listing\" onclick=\"...  \n",
       "4                                              error  "
      ]
     },
     "execution_count": 100,
     "metadata": {},
     "output_type": "execute_result"
    }
   ],
   "source": [
    "wikitravel.head()"
   ]
  },
  {
   "cell_type": "code",
   "execution_count": 104,
   "metadata": {},
   "outputs": [
    {
     "data": {
      "text/plain": [
       "'\" title=\"click to add a see listing\" onclick=\"addListing(this, \\\\\\'3\\\\\\', \\\\\\'see\\\\\\', \\\\\\'A_Coru\\\\xc3\\\\xb1a\\\\\\');\">add listing]\\\\nIn the Cidade Vella, you can find (among others):\\\\n\\\\nCastelo de San Ant\\\\xc3\\\\xb3n. This Castle holds an interesting Archaeological museum. It used to be located in an island.\\\\nChurch of Santiago. Located in the Old Town, the church is originally medieval, but has seen major changes.\\\\nColexiata de Santa Mar\\\\xc3\\\\xada. Now hosting the Museum of Sacred Art\\\\nMuseo Militar. The Military Museum holds collections of weapons, uniforms, maps and so on.\\\\nMuseo Emilia Pardo Baz\\\\xc3\\\\xa1n. A museum dedicated to one great Spanish writer of the XIX century. The building also houses the Galician Language Academy\\\\nXard\\\\xc3\\\\xadn de San Carlos. A beautiful and romantic garden. Often used for wedding photoshoots, and where the remain of Sir John Moore (a British General that fought in the Elvi\\\\xc3\\\\xb1a battle during the Napoleonic wars) lie.\\\\nSome other sights:\\\\n\\\\nTorre de H\\\\xc3\\\\xa9rcules&#8212;Roman lighthouse. Apparently, this is the oldest lighthouse in the world that is still in use. \\\\nCastro de Elvi\\\\xc3\\\\xb1a&#8212;Castros are Roman or pre-Roman settlements. This particular castro has been neglected for a long time, and is undergoing major archaeological work. Many findings are on display on the Castelo de San Ant\\\\xc3\\\\xb3n.\\\\nThe port\\\\nCasa de las Ciencias&#8212;Science Museum\\\\nDomus&#8212;Another science museum, dealing with the human body.\\\\nAquarium Finisterrae&#8212;An aquarium, very close to the Domus.\\\\nPicasso\\\\\\'s home which you cannot visit; there is simply a small plaque to identify it. \\\\nMar\\\\xc3\\\\xada Pita\\\\xc2\\\\xb4s square, with the Council Building\\\\nFine Arts Museum\\\\n'"
      ]
     },
     "execution_count": 104,
     "metadata": {},
     "output_type": "execute_result"
    }
   ],
   "source": [
    "wikitravel['see'][0]"
   ]
  },
  {
   "cell_type": "code",
   "execution_count": null,
   "metadata": {
    "collapsed": true
   },
   "outputs": [],
   "source": [
    "wikitravel.to_csv('wikitravel.csv', sep=',')"
   ]
  }
 ],
 "metadata": {
  "kernelspec": {
   "display_name": "Python 3",
   "language": "python",
   "name": "python3"
  },
  "language_info": {
   "codemirror_mode": {
    "name": "ipython",
    "version": 3
   },
   "file_extension": ".py",
   "mimetype": "text/x-python",
   "name": "python",
   "nbconvert_exporter": "python",
   "pygments_lexer": "ipython3",
   "version": "3.6.3"
  }
 },
 "nbformat": 4,
 "nbformat_minor": 2
}
